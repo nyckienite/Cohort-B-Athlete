{
 "cells": [
  {
   "cell_type": "code",
   "execution_count": null,
   "id": "0ebcbe3d",
   "metadata": {},
   "outputs": [],
   "source": [
    "# Import Libraries\n",
    "import requests # gets the website\n",
    "import pandas as pd #handling tables\n",
    "from bs4 import BeautifulSoup # Web Scraping, parses the HTML to findthe table \n",
    "from io import StringIO # converts the table to a string"
   ]
  },
  {
   "cell_type": "code",
   "execution_count": null,
   "id": "be1c02ee",
   "metadata": {},
   "outputs": [],
   "source": [
    "def get_full_ratings_table(year):\n",
    "    \"\"\" \n",
    "        Some seasons only have all the teams on one table and some have two tables.\n",
    "        This function handles both cases by checking the length of the list of DataFrames\n",
    "        returned by pd.read_html. If there are two tables, it concatenates them.\n",
    "        If there is only one table, it uses that one. It also checks if the columns are\n",
    "        multi-indexed and merges them if necessary. It also checks if the required columns\n",
    "        are present and handles the case where they are not. It also removes asterisks from\n",
    "        team names and adds a Season column to the DataFrame. Finally, it returns the cleaned\n",
    "        DataFrame.\n",
    "    \n",
    "        Args:\n",
    "            year (int): The year for which to fetch the ratings table.\n",
    "        Returns:\n",
    "            pd.DataFrame: A DataFrame containing the ratings table for the specified year.\n",
    "    \"\"\"\n",
    "\n",
    "    print(f\"Fetching data for {year}...\")\n",
    "    \n",
    "    url = f\"https://www.basketball-reference.com/leagues/NBA_{year}_ratings.html\"\n",
    "    res = requests.get(url)\n",
    "    \n",
    "    if res.status_code != 200:\n",
    "        print(f\"Failed to fetch page for {year}\")\n",
    "        return None\n",
    "    \n",
    "    try:\n",
    "       all_dfs = pd.read_html(StringIO(res.text))\n",
    "    except ValueError:\n",
    "        print(f\"No readable tables found for {year}\")\n",
    "        return None\n",
    "    \n",
    "    # Some years may have just 1 table\n",
    "    if len(all_dfs) >= 2:\n",
    "        df = pd.concat([all_dfs[0], all_dfs[1]], ignore_index=True)\n",
    "    else:\n",
    "        df = all_dfs[0]\n",
    "# Clean up headers if multi-indexed\n",
    "    if isinstance(df.columns, pd.MultiIndex):\n",
    "        df.columns = df.columns.droplevel(0)\n",
    "\n",
    "    # Try to select columns safely\n",
    "    try:\n",
    "        df = df[['Team', 'W', 'L', 'W/L%', 'DRtg']]\n",
    "    except KeyError as e:\n",
    "        print(f\" Missing columns for {year}: {e}\")\n",
    "        return None\n",
    "   \n",
    "    # To fix the error message: SettingWithCopyWarning being that pands thinks I am modifying a copy of the DataFrame\n",
    "    # instead of the original DataFrame being that we are trying to modify a slice of a DataFrame.\n",
    "    # Use .loc[:] to show you're modifying the actual DataFrame\n",
    "    # df.copy() is used to create a copy of the DataFrame to avoid the SettingWithCopyWarning and ensure that the Dataframe is not a view of another DataFrame.\n",
    "    df= df.copy()\n",
    "    df.loc[:,'Team'] = df['Team'].str.replace('*', '', regex=False)\n",
    "    df.loc[:,'Season'] = year\n",
    "\n",
    "    return df\n",
    "\n",
    "    "
   ]
  },
  {
   "cell_type": "code",
   "execution_count": null,
   "id": "b9a964fb",
   "metadata": {},
   "outputs": [],
   "source": [
    "# Loop over seasons \n",
    "\n",
    "all_seasons = []\n",
    "\n",
    "for year in range(2014, 2026):  # Includes 2025\n",
    "    df = get_full_ratings_table(year)\n",
    "    if df is not None:\n",
    "        all_seasons.append(df)\n",
    "\n",
    "# Combine all years into one big DataFrame\n",
    "nba_data = pd.concat(all_seasons, ignore_index=True)\n",
    "\n",
    "print(nba_data)"
   ]
  },
  {
   "cell_type": "code",
   "execution_count": null,
   "id": "0fa2cd48",
   "metadata": {},
   "outputs": [],
   "source": [
    "# Save to CSV\n",
    "nba_data.to_csv('nba_team_ratings.csv', index=False)"
   ]
  }
 ],
 "metadata": {
  "language_info": {
   "name": "python"
  }
 },
 "nbformat": 4,
 "nbformat_minor": 5
}
