{
 "cells": [
  {
   "cell_type": "code",
   "execution_count": 4,
   "id": "0ebcbe3d",
   "metadata": {},
   "outputs": [],
   "source": [
    "# Import Libraries\n",
    "import requests # gets the website\n",
    "import pandas as pd #handling tables\n",
    "from io import StringIO # converts the table to a string"
   ]
  },
  {
   "cell_type": "code",
   "execution_count": 5,
   "id": "be1c02ee",
   "metadata": {},
   "outputs": [],
   "source": [
    "def get_full_ratings_table(year):\n",
    "    \"\"\" \n",
    "        Some seasons only have all the teams on one table and some have two tables.\n",
    "        This function handles both cases by checking the length of the list of DataFrames\n",
    "        returned by pd.read_html. If there are two tables, it concatenates them.\n",
    "        If there is only one table, it uses that one. It also checks if the columns are\n",
    "        multi-indexed and merges them if necessary. It also checks if the required columns\n",
    "        are present and handles the case where they are not. It also removes asterisks from\n",
    "        team names and adds a Season column to the DataFrame. Finally, it returns the cleaned\n",
    "        DataFrame.\n",
    "    \n",
    "        Args:\n",
    "            year (int): The year for which to fetch the ratings table.\n",
    "        Returns:\n",
    "            pd.DataFrame: A DataFrame containing the ratings table for the specified year.\n",
    "    \"\"\"\n",
    "\n",
    "    print(f\"Fetching data for {year}...\")\n",
    "    \n",
    "    url = f\"https://www.basketball-reference.com/leagues/NBA_{year}_ratings.html\"\n",
    "    res = requests.get(url)\n",
    "    \n",
    "    if res.status_code != 200:\n",
    "        print(f\"Failed to fetch page for {year}\")\n",
    "        return None\n",
    "    \n",
    "    try:\n",
    "       all_dfs = pd.read_html(StringIO(res.text))\n",
    "    except ValueError:\n",
    "        print(f\"No readable tables found for {year}\")\n",
    "        return None\n",
    "    \n",
    "    # Some years may have just 1 table\n",
    "    if len(all_dfs) >= 2:\n",
    "        df = pd.concat([all_dfs[0], all_dfs[1]], ignore_index=True)\n",
    "    else:\n",
    "        df = all_dfs[0]\n",
    "# Clean up headers if multi-indexed\n",
    "    if isinstance(df.columns, pd.MultiIndex):\n",
    "        df.columns = df.columns.droplevel(0)\n",
    "\n",
    "    # Try to select columns safely\n",
    "    try:\n",
    "        df = df[['Team', 'W', 'L', 'W/L%', 'DRtg']]\n",
    "    except KeyError as e:\n",
    "        print(f\" Missing columns for {year}: {e}\")\n",
    "        return None\n",
    "   \n",
    "    # To fix the error message: SettingWithCopyWarning being that pands thinks I am modifying a copy of the DataFrame\n",
    "    # instead of the original DataFrame being that we are trying to modify a slice of a DataFrame.\n",
    "    # Use .loc[:] to show you're modifying the actual DataFrame\n",
    "    # df.copy() is used to create a copy of the DataFrame to avoid the SettingWithCopyWarning and ensure that the Dataframe is not a view of another DataFrame.\n",
    "    df= df.copy()\n",
    "    df.loc[:,'Team'] = df['Team'].str.replace('*', '', regex=False)\n",
    "    df.loc[:,'Season'] = year\n",
    "\n",
    "    return df\n",
    "\n",
    "    "
   ]
  },
  {
   "cell_type": "code",
   "execution_count": 6,
   "id": "b9a964fb",
   "metadata": {},
   "outputs": [
    {
     "name": "stdout",
     "output_type": "stream",
     "text": [
      "Fetching data for 2014...\n",
      "Fetching data for 2015...\n",
      "Fetching data for 2016...\n",
      "Fetching data for 2017...\n",
      "Fetching data for 2018...\n",
      "Fetching data for 2019...\n",
      "Fetching data for 2020...\n",
      "Fetching data for 2021...\n",
      "Fetching data for 2022...\n",
      "Fetching data for 2023...\n",
      "Fetching data for 2024...\n",
      "Fetching data for 2025...\n",
      "                      Team   W   L   W/L%    DRtg  Season\n",
      "0        San Antonio Spurs  62  20  0.756  102.93    2014\n",
      "1     Los Angeles Clippers  57  25  0.695  105.64    2014\n",
      "2    Oklahoma City Thunder  59  23  0.720  104.60    2014\n",
      "3    Golden State Warriors  51  31  0.622  103.07    2014\n",
      "4          Houston Rockets  54  28  0.659  107.07    2014\n",
      "..                     ...  ..  ..    ...     ...     ...\n",
      "355          Brooklyn Nets  26  56  0.317  115.83    2025\n",
      "356              Utah Jazz  17  65  0.207  120.61    2025\n",
      "357   New Orleans Pelicans  21  61  0.256  120.01    2025\n",
      "358      Charlotte Hornets  19  63  0.232  116.65    2025\n",
      "359     Washington Wizards  18  64  0.220  119.12    2025\n",
      "\n",
      "[360 rows x 6 columns]\n"
     ]
    }
   ],
   "source": [
    "# Loop over seasons \n",
    "\n",
    "all_seasons = []\n",
    "\n",
    "for year in range(2014, 2026):  # Includes 2025\n",
    "    df = get_full_ratings_table(year)\n",
    "    if df is not None:\n",
    "        all_seasons.append(df)\n",
    "\n",
    "# Combine all years into one big DataFrame\n",
    "nba_data = pd.concat(all_seasons, ignore_index=True)\n",
    "\n",
    "print(nba_data)"
   ]
  },
  {
   "cell_type": "code",
   "execution_count": 7,
   "id": "0fa2cd48",
   "metadata": {},
   "outputs": [],
   "source": [
    "# Save to CSV\n",
    "nba_data.to_csv('Data/nba_team_ratings.csv', index=False)"
   ]
  }
 ],
 "metadata": {
  "kernelspec": {
   "display_name": "ds",
   "language": "python",
   "name": "python3"
  },
  "language_info": {
   "codemirror_mode": {
    "name": "ipython",
    "version": 3
   },
   "file_extension": ".py",
   "mimetype": "text/x-python",
   "name": "python",
   "nbconvert_exporter": "python",
   "pygments_lexer": "ipython3",
   "version": "3.12.9"
  }
 },
 "nbformat": 4,
 "nbformat_minor": 5
}
